{
 "cells": [
  {
   "cell_type": "code",
   "execution_count": null,
   "id": "23b1bf3e",
   "metadata": {
    "vscode": {
     "languageId": "plaintext"
    }
   },
   "outputs": [],
   "source": [
    "import pandas as pd\n",
    "import matplotlib.pyplot as plt\n",
    "import numpy as np\n",
    "from sklearn import linear_model\n",
    "%matplotlib inline\n",
    "import math\n",
    "df=pd.read_csv('/kaggle/input/home-prices-dummy-variables/homeprices (2).csv')\n",
    "print(df)\n",
    "dummy=pd.get_dummies(df.town)\n",
    "dummy\n",
    "dummy=dummy.drop([\"west windsor\"],axis='columns')\n",
    "dummy\n",
    "df=df.drop(['town'],axis='columns')\n",
    "df\n",
    "df=pd.concat([df,dummy],axis='columns')\n",
    "df\n",
    "y=df.price\n",
    "x=df.drop(['price'],axis='columns')\n",
    "print(x)\n",
    "y\n",
    "model=linear_model.LinearRegression()\n",
    "model.fit(x,y)\n",
    "\n",
    "model.predict([[2800,0,1]])\n",
    "model.score(x,y)\n"
   ]
  }
 ],
 "metadata": {
  "language_info": {
   "name": "python"
  }
 },
 "nbformat": 4,
 "nbformat_minor": 5
}
